{
 "cells": [
  {
   "cell_type": "code",
   "execution_count": 34,
   "id": "5dffd158",
   "metadata": {},
   "outputs": [],
   "source": [
    "# iterating through a numpy array\n",
    "import numpy as np"
   ]
  },
  {
   "cell_type": "code",
   "execution_count": 44,
   "id": "bcc4f57c",
   "metadata": {},
   "outputs": [
    {
     "data": {
      "text/plain": [
       "array([[ 0,  1,  2,  3],\n",
       "       [ 4,  5,  6,  7],\n",
       "       [ 8,  9, 10, 11],\n",
       "       [12, 13, 14, 15]])"
      ]
     },
     "execution_count": 44,
     "metadata": {},
     "output_type": "execute_result"
    }
   ],
   "source": [
    "a = np.arange(16).reshape(4, 4)\n",
    "a"
   ]
  },
  {
   "cell_type": "code",
   "execution_count": 36,
   "id": "3707525a",
   "metadata": {
    "scrolled": true
   },
   "outputs": [
    {
     "name": "stdout",
     "output_type": "stream",
     "text": [
      "[0 1 2 3]\n",
      "0 1 2 3 \n",
      "\n",
      "\n",
      "[4 5 6 7]\n",
      "4 5 6 7 \n",
      "\n",
      "\n",
      "[ 8  9 10 11]\n",
      "8 9 10 11 \n",
      "\n",
      "\n",
      "[12 13 14 15]\n",
      "12 13 14 15 \n",
      "\n",
      "\n"
     ]
    }
   ],
   "source": [
    "for row in a:\n",
    "    print(row)\n",
    "    for element in row:\n",
    "        print(element, end=' ')\n",
    "    print('\\n\\n')"
   ]
  },
  {
   "cell_type": "code",
   "execution_count": 37,
   "id": "4c562fd8",
   "metadata": {},
   "outputs": [
    {
     "name": "stdout",
     "output_type": "stream",
     "text": [
      "0 1 2 3 4 5 6 7 8 9 10 11 12 13 14 15 "
     ]
    }
   ],
   "source": [
    "# you can flatten an array into one dimension\n",
    "for element in a.flatten():\n",
    "    print(element, end=' ')"
   ]
  },
  {
   "cell_type": "code",
   "execution_count": 38,
   "id": "eb813ee5",
   "metadata": {},
   "outputs": [
    {
     "name": "stdout",
     "output_type": "stream",
     "text": [
      "0 4 8 12 1 5 9 13 2 6 10 14 3 7 11 15 "
     ]
    }
   ],
   "source": [
    "# numpy.nditer - Efficient multi-dimensional iterator object to iterate over arrays\n",
    "# you pass in the array you want to iterate, and you can choose how to iterate it\n",
    "for element in np.nditer(a, order='F'):\n",
    "    print(element, end=' ')"
   ]
  },
  {
   "cell_type": "code",
   "execution_count": 39,
   "id": "6bebfa22",
   "metadata": {},
   "outputs": [
    {
     "name": "stdout",
     "output_type": "stream",
     "text": [
      "[ 0  4  8 12] [ 1  5  9 13] [ 2  6 10 14] [ 3  7 11 15] "
     ]
    }
   ],
   "source": [
    "for element in np.nditer(a, order='F', flags=['external_loop']):\n",
    "    print(element, end=' ')"
   ]
  },
  {
   "cell_type": "code",
   "execution_count": 40,
   "id": "667976fa",
   "metadata": {},
   "outputs": [],
   "source": [
    "for element in np.nditer(a, op_flags=['readwrite']):  # tells us operand will be read/written to\n",
    "    element[...] = element * element  # this should square our numbers"
   ]
  },
  {
   "cell_type": "code",
   "execution_count": 42,
   "id": "78869db2",
   "metadata": {},
   "outputs": [
    {
     "data": {
      "text/plain": [
       "array([[  0,   1,   4,   9],\n",
       "       [ 16,  25,  36,  49],\n",
       "       [ 64,  81, 100, 121],\n",
       "       [144, 169, 196, 225]])"
      ]
     },
     "execution_count": 42,
     "metadata": {},
     "output_type": "execute_result"
    }
   ],
   "source": [
    "a"
   ]
  },
  {
   "cell_type": "code",
   "execution_count": 49,
   "id": "fff4f5fa",
   "metadata": {},
   "outputs": [
    {
     "data": {
      "text/plain": [
       "array([[0, 1, 2, 3]])"
      ]
     },
     "execution_count": 49,
     "metadata": {},
     "output_type": "execute_result"
    }
   ],
   "source": [
    "b = np.arange(4).reshape(1,4)\n",
    "b"
   ]
  },
  {
   "cell_type": "code",
   "execution_count": 45,
   "id": "56dc6553",
   "metadata": {},
   "outputs": [
    {
     "data": {
      "text/plain": [
       "array([[ 0,  1,  2,  3],\n",
       "       [ 4,  5,  6,  7],\n",
       "       [ 8,  9, 10, 11],\n",
       "       [12, 13, 14, 15]])"
      ]
     },
     "execution_count": 45,
     "metadata": {},
     "output_type": "execute_result"
    }
   ],
   "source": [
    "a"
   ]
  },
  {
   "cell_type": "code",
   "execution_count": 50,
   "id": "7f0ee7e8",
   "metadata": {},
   "outputs": [
    {
     "name": "stdout",
     "output_type": "stream",
     "text": [
      "0 0\n",
      "1 1\n",
      "2 2\n",
      "3 3\n",
      "4 0\n",
      "5 1\n",
      "6 2\n",
      "7 3\n",
      "8 0\n",
      "9 1\n",
      "10 2\n",
      "11 3\n",
      "12 0\n",
      "13 1\n",
      "14 2\n",
      "15 3\n"
     ]
    }
   ],
   "source": [
    "# How do we iterate through two numpy arrays simultaneously?\n",
    "# arrays need to be broadcastable:\n",
    "# (1) shape is the same, or \n",
    "# (2) one of the dimensions of one is one\n",
    "for x, y in np.nditer([a, b]): \n",
    "    print(x, y)  "
   ]
  }
 ],
 "metadata": {
  "kernelspec": {
   "display_name": "Python 3 (ipykernel)",
   "language": "python",
   "name": "python3"
  },
  "language_info": {
   "codemirror_mode": {
    "name": "ipython",
    "version": 3
   },
   "file_extension": ".py",
   "mimetype": "text/x-python",
   "name": "python",
   "nbconvert_exporter": "python",
   "pygments_lexer": "ipython3",
   "version": "3.9.5"
  }
 },
 "nbformat": 4,
 "nbformat_minor": 5
}
